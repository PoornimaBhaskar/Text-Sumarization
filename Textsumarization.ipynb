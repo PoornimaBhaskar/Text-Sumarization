

from newspaper import Article
from IPython.display import Markdown, display
from wordcloud import WordCloud, STOPWORDS, ImageColorGenerator
import matplotlib.pyplot as plt
import pandas as pd
import numpy as np


def printmd(string):
    display(Markdown(string))


url = "https://www.cnbctv18.com/technology/mission-shakti-indian-satellite-destruction-created-400-pieces-of-debris-endangering-iss-says-nasa-2805971.htm"
toi_article = Article(url, language="en")

toi_article.download()

toi_article.parse()

toi_article.nlp()

printmd("Article's Title:")
print(toi_article.title)
print("\n")

printmd("Article's Text:")
print(toi_article.text)
print("\n")

printmd("Article's Summary:")
print(toi_article.summary)
print("\n")

printmd("Article's Keywords:")
print(toi_article.keywords)


from newspaper import Article
from IPython.display import Markdown, display
from wordcloud import WordCloud, STOPWORDS, ImageColorGenerator
import matplotlib.pyplot as plt
import pandas as pd
import numpy as np


def printmd(string):
    display(Markdown(string))


url = "https://aajtak.intoday.in/story/kbc-11-contestant-gautam-kumar-jha-seven-crore-question-amitabh-bachchan-tmov-1-1128334.html"
toi_article = Article(url, language="hi")

toi_article.download()

toi_article.parse()

toi_article.nlp()

printmd("Article's Title:")
print(toi_article.title)
print("\n")

printmd("Article's Text:")
print(toi_article.text)
print("\n")

printmd("Article's Summary:")
print(toi_article.summary)
print("\n")

printmd("Article's Keywords:")
print(toi_article.keywords)

from newspaper import Article
from IPython.display import Markdown, display
from wordcloud import WordCloud, STOPWORDS, ImageColorGenerator
import matplotlib.pyplot as plt
import pandas as pd
import numpy as np


def printmd(string):
    display(Markdown(string))


url = "https://www.bbc.com/zhongwen/simp/world-50027861"
toi_article = Article(url, language="zh")

toi_article.download()

toi_article.parse()

toi_article.nlp()

printmd("Article's Title:")
print(toi_article.title)
print("\n")

printmd("Article's Text:")
print(toi_article.text)
print("\n")

printmd("Article's Summary:")
print(toi_article.summary)
print("\n")

printmd("Article's Keywords:")
print(toi_article.keywords)









